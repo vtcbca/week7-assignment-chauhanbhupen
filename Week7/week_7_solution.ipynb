{
 "cells": [
  {
   "cell_type": "markdown",
   "id": "6a60dbc2-61a1-42a6-a798-a7c103cacc3f",
   "metadata": {},
   "source": [
    "### Create CSV file for product selling for 6 Months ( Prod_No | Prod_Name | Jan | Feb | Mar | Apr | May | Jun) for 5 products."
   ]
  },
  {
   "cell_type": "code",
   "execution_count": 2,
   "id": "17d381b9-e820-46fe-8b90-5e4d22c243af",
   "metadata": {},
   "outputs": [],
   "source": [
    "import csv"
   ]
  },
  {
   "cell_type": "code",
   "execution_count": 3,
   "id": "7b5082c6-54ac-4437-ba06-58a0cc231839",
   "metadata": {},
   "outputs": [],
   "source": [
    "import pandas as pd"
   ]
  },
  {
   "cell_type": "code",
   "execution_count": 5,
   "id": "3ba8861c-b820-4974-9c4e-fb253596d3cc",
   "metadata": {},
   "outputs": [],
   "source": [
    "header=['Product_No','Product_Name','Jan','Feb','Mar','Apr','May','Jun']"
   ]
  },
  {
   "cell_type": "code",
   "execution_count": 7,
   "id": "292f3ccf-eca1-4404-b00c-ec3e5d3f4999",
   "metadata": {},
   "outputs": [],
   "source": [
    "with open(\"C:\\\\sqlite3\\\\csv\\\\selling.csv\",\"w\",newline='') as csvfile:\n",
    "    data=csv.writer(csvfile)\n",
    "    data.writerow(header)"
   ]
  },
  {
   "cell_type": "markdown",
   "id": "954e13c6-146e-4af9-8bdb-6a05f07c81e5",
   "metadata": {},
   "source": [
    "### Add 12 Records. by taking input from user."
   ]
  },
  {
   "cell_type": "code",
   "execution_count": 9,
   "id": "19a5e865-4473-4f82-ba87-689499276572",
   "metadata": {},
   "outputs": [],
   "source": [
    "l=[]"
   ]
  },
  {
   "cell_type": "code",
   "execution_count": null,
   "id": "ff2f64dc-3fb4-45fd-ab7f-286a79a97b09",
   "metadata": {},
   "outputs": [],
   "source": [
    "with open(\"c:\\\\sqlite3\\\\csv\\\\selling.csv\",'a',newline=\"\") as file:\n",
    "    insert =csv. writer(file)\n",
    "    for i in range(12):\n",
    "        prod_no = int(input(\"Enter Product Number: \"))\n",
    "        prod_name = input(\"Enter Product Name: \")\n",
    "        jan = int(input(\"Enter January Sales: \"))\n",
    "        feb = int(input(\"Enter February Sales: \"))\n",
    "        mar = int(input(\"Enter March Sales: \"))\n",
    "        apr = int(input(\"Enter April Sales: \"))\n",
    "        may = int(input(\"Enter May Sales: \"))\n",
    "        jun = int(input(\"Enter June Sales: \"))\n",
    "        data=[product_no,product_name,jan,feb,mar,apr,may,jun]\n",
    "        l.append(data)\n",
    "    insert.writerows(l)"
   ]
  },
  {
   "cell_type": "markdown",
   "id": "15969f6f-fb96-4e03-b5c1-6fd749f0c573",
   "metadata": {},
   "source": [
    "### Change Column Name Product No, Product Name, January, February, March, April, May, June."
   ]
  },
  {
   "cell_type": "code",
   "execution_count": null,
   "id": "e16a7e56-83da-4cd2-b374-bbc56040b6fa",
   "metadata": {},
   "outputs": [],
   "source": [
    "df=pd.header=['Product_NO','Product_Name','January','February','March','April','May',' June']\n"
   ]
  },
  {
   "cell_type": "code",
   "execution_count": null,
   "id": "e63fe5b7-42b5-457c-8c09-5ca180c5b0e5",
   "metadata": {},
   "outputs": [],
   "source": [
    "print(df)"
   ]
  },
  {
   "cell_type": "markdown",
   "id": "83c89d40-40a5-425e-8521-2a841e389dd5",
   "metadata": {},
   "source": [
    "### Add column \"Total Sell\" to count total of all month and \"Average Sell\"\n"
   ]
  },
  {
   "cell_type": "code",
   "execution_count": null,
   "id": "d22a7f37-e9d9-46a6-9c0f-ab2586770dde",
   "metadata": {},
   "outputs": [],
   "source": [
    "header=['Product_NO','Product_Name','January','February','March','April','May',' June']\n"
   ]
  },
  {
   "cell_type": "code",
   "execution_count": null,
   "id": "e8f14bdf-e473-443a-b917-1f3f925bd625",
   "metadata": {},
   "outputs": [],
   "source": [
    "df=pd.read_csv(\"e:\\\\sqlite3\\\\product_selling.csv\")\n"
   ]
  },
  {
   "cell_type": "code",
   "execution_count": null,
   "id": "62b71d42-51e3-4e3e-b7cf-295a8b9d15da",
   "metadata": {},
   "outputs": [],
   "source": [
    "row=df.values.tolist()\n"
   ]
  },
  {
   "cell_type": "code",
   "execution_count": null,
   "id": "e957a6dd-29bc-467e-aad7-a0fdc884469c",
   "metadata": {},
   "outputs": [],
   "source": [
    "total=[sum(i[2::]) for i in row]\n"
   ]
  },
  {
   "cell_type": "code",
   "execution_count": null,
   "id": "be787d99-2985-4c18-b87d-b02bb76a7495",
   "metadata": {},
   "outputs": [],
   "source": [
    "average=[int(sum(i[2::])/6) for i in row]"
   ]
  },
  {
   "cell_type": "code",
   "execution_count": null,
   "id": "70158b5b-2973-4ffd-ad57-7a4dd3ad1207",
   "metadata": {},
   "outputs": [],
   "source": [
    "df = pd.DataFrame(row,columns=header)"
   ]
  },
  {
   "cell_type": "code",
   "execution_count": null,
   "id": "ac202e7b-afb8-40c8-baa1-1223c91d3a7b",
   "metadata": {},
   "outputs": [],
   "source": [
    "df['Total']=total"
   ]
  },
  {
   "cell_type": "code",
   "execution_count": null,
   "id": "72dc6c2f-c792-499d-8c8e-4f37a80666fb",
   "metadata": {},
   "outputs": [],
   "source": [
    "df['Average']=average"
   ]
  },
  {
   "cell_type": "code",
   "execution_count": null,
   "id": "098dc985-22c0-4c69-9f1f-8bcbfaec3e9f",
   "metadata": {},
   "outputs": [],
   "source": [
    "print(df)"
   ]
  },
  {
   "cell_type": "markdown",
   "id": "87be84ef-ae1a-4ade-b7c8-25b6a6bd7ced",
   "metadata": {},
   "source": [
    "### Add 2 row at the end."
   ]
  },
  {
   "cell_type": "code",
   "execution_count": null,
   "id": "339d31e8-47b8-442a-923e-35722294f571",
   "metadata": {},
   "outputs": [],
   "source": [
    "new_rows = {'Product No': '', 'Product Name': '', 'January': '', 'February': '', 'March': '', 'April': '', 'May': '', 'June': ''}\n"
   ]
  },
  {
   "cell_type": "code",
   "execution_count": null,
   "id": "ea286538-46b7-4384-8797-7b88412a8945",
   "metadata": {},
   "outputs": [],
   "source": [
    "for i in range(2):\n",
    "    for column in new_rows:\n",
    "        new_rows[column] = input(f\"Enter value for {column}: \")"
   ]
  },
  {
   "cell_type": "code",
   "execution_count": null,
   "id": "4661436e-b593-4e3f-978a-b6ba23cca80e",
   "metadata": {},
   "outputs": [],
   "source": [
    "df = df.append(new_rows, ignore_index=True)"
   ]
  },
  {
   "cell_type": "code",
   "execution_count": null,
   "id": "322a44c6-00a0-4d8b-8e03-27d2c22b5045",
   "metadata": {},
   "outputs": [],
   "source": [
    "df.reset_index(drop=True, inplace=True)"
   ]
  },
  {
   "cell_type": "markdown",
   "id": "7ec26724-1f8f-4e68-a92a-c9a07c7fdd2c",
   "metadata": {},
   "source": [
    "### Add 2 row at the end."
   ]
  },
  {
   "cell_type": "code",
   "execution_count": null,
   "id": "0f1f7af2-4f19-4283-a762-677d05c61e6a",
   "metadata": {},
   "outputs": [],
   "source": [
    "new_rows = {'Product No': '', 'Product Name': '', 'January': '', 'February': '', 'March': '', 'April': '', 'May': '', 'June': ''}\n",
    "for i in range(2):\n",
    "    for column in new_rows:\n",
    "        new_rows[column] = input(f\"Enter value for {column}: \")\n",
    "df = df.append(new_rows, ignore_index=True)\n",
    "df.reset_index(drop=True, inplace=True)"
   ]
  },
  {
   "cell_type": "markdown",
   "id": "845b46e7-7091-4645-bf17-8056477b4dfa",
   "metadata": {},
   "source": [
    "### add 2 row after 3rd row"
   ]
  },
  {
   "cell_type": "code",
   "execution_count": null,
   "id": "cd7831b3-4728-4d5a-95a2-f0aab299ff8f",
   "metadata": {},
   "outputs": [],
   "source": [
    "header=['Product No', 'Product Name', 'January', 'February', 'March', 'April', 'May', 'June','Total','Average']\n",
    "df.loc[2.5] = [15, 'mouse',1200,1300,3000,600,1500,2500,1250,300.8333333]\n",
    "df = df.sort_index().reset_index(drop=True)\n",
    "df.loc[3.5] = [16, 'power_cable',200,500,800,1500,8000,3500,2345,3600.333333]\n",
    "df = df.sort_index().reset_index(drop=True)"
   ]
  },
  {
   "cell_type": "markdown",
   "id": "58faf9cb-8a14-4ab0-8885-2ab0f68646e9",
   "metadata": {},
   "source": [
    "# Print first 5 row."
   ]
  },
  {
   "cell_type": "code",
   "execution_count": null,
   "id": "7714dc3d-f5e0-49dd-8654-0f49fcdfcc91",
   "metadata": {},
   "outputs": [],
   "source": [
    "print(\"FIRST FIVE ROWS\")\n",
    "print(df.head())"
   ]
  },
  {
   "cell_type": "code",
   "execution_count": null,
   "id": "de0ce951-57e4-4b02-8888-1ddd846ad1da",
   "metadata": {},
   "outputs": [],
   "source": [
    "#Print Last 5 row."
   ]
  },
  {
   "cell_type": "code",
   "execution_count": null,
   "id": "96cb1cbe-91d2-4362-b499-6f8efd28d894",
   "metadata": {},
   "outputs": [],
   "source": [
    "print(\"LAST 5 ROWS\")\n",
    "print(df.tail())"
   ]
  },
  {
   "cell_type": "code",
   "execution_count": null,
   "id": "e2fc5f1f-d78f-4eeb-9604-630c5f1f3d08",
   "metadata": {},
   "outputs": [],
   "source": [
    "# Print row 6 to 10."
   ]
  },
  {
   "cell_type": "code",
   "execution_count": null,
   "id": "663ce8b0-174d-4497-a12c-a555b1559954",
   "metadata": {},
   "outputs": [],
   "source": [
    "print(\"ROW BETWEEN 6 TO 10\")\n",
    "print(df.loc[6:10])"
   ]
  },
  {
   "cell_type": "code",
   "execution_count": null,
   "id": "48860d6f-0aa7-4b83-96ed-38fe0daf3b52",
   "metadata": {},
   "outputs": [],
   "source": [
    "#Print only product name."
   ]
  },
  {
   "cell_type": "code",
   "execution_count": null,
   "id": "54f87463-def4-4734-827d-a84e416ba4c9",
   "metadata": {},
   "outputs": [],
   "source": [
    "print(df[\"Product Name\"])\n"
   ]
  },
  {
   "cell_type": "code",
   "execution_count": null,
   "id": "c2e9ebb7-6aaf-4752-9d20-bfe91414f30f",
   "metadata": {},
   "outputs": [],
   "source": [
    "\n",
    "# Print sell of January month with product id and product name."
   ]
  },
  {
   "cell_type": "code",
   "execution_count": null,
   "id": "50952332-44c8-4caa-8742-796feeb9badd",
   "metadata": {},
   "outputs": [],
   "source": [
    "print(df[[\"Product No\", \"Product Name\", \"January\"]])"
   ]
  },
  {
   "cell_type": "code",
   "execution_count": null,
   "id": "0361aebb-b856-4360-a117-184277232f75",
   "metadata": {},
   "outputs": [],
   "source": [
    "#  Print only those product id , product name where january sell is > 5000 and February sell is >8000\n"
   ]
  },
  {
   "cell_type": "code",
   "execution_count": null,
   "id": "afacd4bd-d870-4bf7-b8e2-5e2dc26176a9",
   "metadata": {},
   "outputs": [],
   "source": [
    "print(\" record based on condition\")\n",
    "df[\"January\"] = pd.to_numeric(df[\"January\"])\n",
    "df[\"February\"] = pd.to_numeric(df[\"February\"])"
   ]
  },
  {
   "cell_type": "code",
   "execution_count": null,
   "id": "53001696-0a46-4ff7-956d-2da6b8831637",
   "metadata": {},
   "outputs": [],
   "source": [
    "df2 = df[(df[\"January\"] > 5000) & (df[\"February\"] > 8000)]\n",
    "print(df2[[\"Product No\", \"Product Name\"]])"
   ]
  },
  {
   "cell_type": "markdown",
   "id": "c4e3863d-089b-4a3f-ae5c-b9481928684d",
   "metadata": {},
   "source": [
    "### Print record in sorting order of Product name."
   ]
  },
  {
   "cell_type": "code",
   "execution_count": null,
   "id": "8f185ebd-88bc-47be-bc45-d834f6f4535e",
   "metadata": {},
   "outputs": [],
   "source": [
    "print(df.sort_values(by=\"Product Name\"))"
   ]
  },
  {
   "cell_type": "markdown",
   "id": "64999dcc-0ecb-439f-8427-915adc28d13f",
   "metadata": {},
   "source": [
    "### Display only odd index number column record."
   ]
  },
  {
   "cell_type": "code",
   "execution_count": null,
   "id": "978a8346-8a28-4546-ab58-428ca23ccc3a",
   "metadata": {},
   "outputs": [],
   "source": [
    "print(\"odd rows\")\n",
    "print(df.iloc[1::2])\n",
    "print(\"even row\")"
   ]
  },
  {
   "cell_type": "markdown",
   "id": "1251f14d-6bc3-4cae-be89-365a7533edec",
   "metadata": {},
   "source": [
    "### Display alternate row."
   ]
  },
  {
   "cell_type": "code",
   "execution_count": null,
   "id": "e5147829-b243-4957-a210-4e80f2488f19",
   "metadata": {},
   "outputs": [],
   "source": [
    "print(df.iloc[::2])"
   ]
  }
 ],
 "metadata": {
  "kernelspec": {
   "display_name": "Python 3 (ipykernel)",
   "language": "python",
   "name": "python3"
  },
  "language_info": {
   "codemirror_mode": {
    "name": "ipython",
    "version": 3
   },
   "file_extension": ".py",
   "mimetype": "text/x-python",
   "name": "python",
   "nbconvert_exporter": "python",
   "pygments_lexer": "ipython3",
   "version": "3.9.6"
  }
 },
 "nbformat": 4,
 "nbformat_minor": 5
}
